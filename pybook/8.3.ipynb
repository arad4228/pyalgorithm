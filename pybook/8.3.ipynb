{
 "cells": [
  {
   "cell_type": "markdown",
   "id": "abb81eae",
   "metadata": {},
   "source": [
    "## 개미전사\n",
    "1. 개미전사는 식량 충족을 위해 메뚜기 마을 식량 창고를 몰래 공격\n",
    "2. 메뚜기 마을에는 여러가지 식량 창고가 일직선으로 이어져있다.\n",
    "3. 식량창고를 선택적으로 약탈\n",
    "4. 메뚜기는 인저반 창고가 공격당하면 알음.\n",
    "5. 들키지 않으려면 한칸뛰고 공격"
   ]
  },
  {
   "cell_type": "code",
   "execution_count": 3,
   "id": "c9fce8c6",
   "metadata": {},
   "outputs": [],
   "source": [
    "def sol(n,food):\n",
    "    foodspace = [0]* 100\n",
    "    \n",
    "    foodspace[0] = food[0]\n",
    "    foodspace[1] = max(food[0],food[1])\n",
    "    for i in range(2,n):\n",
    "        foodspace[i] = max(foodspace[i-1],foodspace[i-2]+ food[i])\n",
    "    \n",
    "    print(foodspace[n-1])"
   ]
  },
  {
   "cell_type": "code",
   "execution_count": 5,
   "id": "c52a9fff",
   "metadata": {},
   "outputs": [
    {
     "name": "stdout",
     "output_type": "stream",
     "text": [
      "8\n"
     ]
    }
   ],
   "source": [
    "#n = int(input())\n",
    "#food = list(map(int, input().split())\n",
    "n = 4\n",
    "food = [1,3,1,5]\n",
    "sol(n,food)"
   ]
  },
  {
   "cell_type": "code",
   "execution_count": 14,
   "id": "30506f81",
   "metadata": {},
   "outputs": [],
   "source": [
    "def mysol(n,food):\n",
    "    flist = [0] * 100\n",
    "    #이유는 최대 100개의 공간을 할당 받을 수 있음\n",
    "    flist[0] = food[0]\n",
    "    flist[1] = max(food[1],food[0])\n",
    "    #2가지 종류가 있을 때는 2가지 경우수가 가능하다. 1. 첫번째, 2. 두번째를 고르는 경우이다.\n",
    "    for i in range(2,n):\n",
    "        flist[i] = max(flist[i-1],flist[i-2]+ food[i])\n",
    "    \n",
    "    print(flist[n-1])"
   ]
  },
  {
   "cell_type": "code",
   "execution_count": 15,
   "id": "6d3934ee",
   "metadata": {},
   "outputs": [
    {
     "name": "stdout",
     "output_type": "stream",
     "text": [
      "8\n"
     ]
    }
   ],
   "source": [
    "#n = int(input())\n",
    "#food = list(map(int, input().split())\n",
    "n = 4\n",
    "food = [1,3,1,5]\n",
    "mysol(n,food)"
   ]
  }
 ],
 "metadata": {
  "kernelspec": {
   "display_name": "Python 3 (ipykernel)",
   "language": "python",
   "name": "python3"
  },
  "language_info": {
   "codemirror_mode": {
    "name": "ipython",
    "version": 3
   },
   "file_extension": ".py",
   "mimetype": "text/x-python",
   "name": "python",
   "nbconvert_exporter": "python",
   "pygments_lexer": "ipython3",
   "version": "3.9.6"
  }
 },
 "nbformat": 4,
 "nbformat_minor": 5
}
