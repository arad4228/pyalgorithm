{
 "cells": [
  {
   "cell_type": "code",
   "execution_count": 11,
   "id": "37386354",
   "metadata": {},
   "outputs": [
    {
     "name": "stdout",
     "output_type": "stream",
     "text": [
      "[1, 4, 2, 0, 3, 5, 6, 9, 7, 8]\n",
      "[0, 1, 2, 3, 4, 5, 6, 7, 8, 9]\n",
      "[0, 1, 2, 3, 4, 5, 6, 7, 8, 9]\n"
     ]
    }
   ],
   "source": [
    "array1 =[5,7,9,0,3,1,6,2,4,8]\n",
    "array2 =[5,7,9,0,3,1,6,2,4,8]\n",
    "array3 =[5,7,9,0,3,1,6,2,4,8]\n",
    "\n",
    "sol1(array1)\n",
    "sol2(array2,0,len(array2)-1)\n",
    "array3 = sol3(array3)\n",
    "\n",
    "print(array1)\n",
    "print(array2)\n",
    "print(array3)"
   ]
  },
  {
   "cell_type": "code",
   "execution_count": 8,
   "id": "e7c8a85f",
   "metadata": {},
   "outputs": [],
   "source": [
    "def sol1(alist): # 해결 해보기\n",
    "    if len(alist) <= 1:\n",
    "        return\n",
    "    pivot = alist[0]\n",
    "    left, right = 1 ,len(alist)-1\n",
    "    while left <= right:\n",
    "        while (left <= right) and (alist[left] <= pivot) and (left < len(alist)):\n",
    "            left +=1\n",
    "            \n",
    "        while (right > 0) and (alist[right] >= pivot) and (left < len(alist)):\n",
    "            right -= 1\n",
    "            \n",
    "        if (left > right):\n",
    "            alist[0],alist[right] = alist[right],alist[0]\n",
    "        else:\n",
    "            alist[left], alist[right] = alist[right],alist[left]\n",
    "            \n",
    "    sol1(alist[:left])\n",
    "    sol1(alist[right + 1:])"
   ]
  },
  {
   "cell_type": "code",
   "execution_count": 9,
   "id": "c7f30ca4",
   "metadata": {},
   "outputs": [],
   "source": [
    "def sol2(alist,start, end):\n",
    "    if start >= end:\n",
    "        return\n",
    "    pivot = start\n",
    "    left, right = start + 1, end\n",
    "    while left <= right:\n",
    "        while (left <= end) and (alist[left] <= alist[pivot]):\n",
    "            left +=1\n",
    "        while (right > start) and (alist[right] >= alist[pivot]):\n",
    "            right -= 1\n",
    "        if (left > right):\n",
    "            alist[pivot],alist[right] = alist[right],alist[pivot]\n",
    "        else:\n",
    "            alist[left], alist[right] = alist[right],alist[left]\n",
    "    sol2(alist, start, right - 1)\n",
    "    sol2(alist, right +1, end)"
   ]
  },
  {
   "cell_type": "code",
   "execution_count": 10,
   "id": "923058ca",
   "metadata": {},
   "outputs": [],
   "source": [
    "def sol3(alist):\n",
    "    if len(alist) <= 1:\n",
    "        return alist\n",
    "    \n",
    "    pivot = alist[0]\n",
    "    tail = alist[1:]\n",
    "    \n",
    "    left_side = [x for x in tail if x <= pivot]\n",
    "    right_side = [x for x in tail if x > pivot]\n",
    "    \n",
    "    return sol3(left_side) + [pivot] + sol3(right_side)"
   ]
  }
 ],
 "metadata": {
  "kernelspec": {
   "display_name": "Python 3 (ipykernel)",
   "language": "python",
   "name": "python3"
  },
  "language_info": {
   "codemirror_mode": {
    "name": "ipython",
    "version": 3
   },
   "file_extension": ".py",
   "mimetype": "text/x-python",
   "name": "python",
   "nbconvert_exporter": "python",
   "pygments_lexer": "ipython3",
   "version": "3.9.6"
  }
 },
 "nbformat": 4,
 "nbformat_minor": 5
}
