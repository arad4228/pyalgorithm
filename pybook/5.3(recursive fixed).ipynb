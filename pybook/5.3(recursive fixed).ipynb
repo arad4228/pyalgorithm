{
 "cells": [
  {
   "cell_type": "code",
   "execution_count": 3,
   "id": "ebb50aed",
   "metadata": {},
   "outputs": [
    {
     "name": "stdout",
     "output_type": "stream",
     "text": [
      "재귀함수입니다\n",
      "재귀함수입니다\n",
      "재귀함수입니다\n",
      "재귀함수입니다\n",
      "재귀함수입니다\n",
      "재귀함수입니다\n",
      "재귀함수입니다\n",
      "재귀함수입니다\n",
      "재귀함수입니다\n",
      "재귀함수입니다\n"
     ]
    }
   ],
   "source": [
    "def recursive_func(count):\n",
    "    if count == 10:\n",
    "        return\n",
    "    print(\"재귀함수입니다\")\n",
    "    count +=1\n",
    "    recursive_func(count)\n",
    "    \n",
    "count = 0\n",
    "recursive_func(count)"
   ]
  }
 ],
 "metadata": {
  "kernelspec": {
   "display_name": "Python 3 (ipykernel)",
   "language": "python",
   "name": "python3"
  },
  "language_info": {
   "codemirror_mode": {
    "name": "ipython",
    "version": 3
   },
   "file_extension": ".py",
   "mimetype": "text/x-python",
   "name": "python",
   "nbconvert_exporter": "python",
   "pygments_lexer": "ipython3",
   "version": "3.9.4"
  }
 },
 "nbformat": 4,
 "nbformat_minor": 5
}
