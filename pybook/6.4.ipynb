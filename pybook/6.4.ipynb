{
 "cells": [
  {
   "cell_type": "code",
   "execution_count": 19,
   "id": "82bf9331",
   "metadata": {},
   "outputs": [
    {
     "name": "stdout",
     "output_type": "stream",
     "text": [
      "0 0 1 1 2 2 3 4 5 5 6 7 8 9 9 "
     ]
    }
   ],
   "source": [
    "array = [7, 5, 9, 0, 3, 1, 6, 2, 9, 1, 4, 8, 0, 5, 2]\n",
    "\n",
    "sol(array)"
   ]
  },
  {
   "cell_type": "code",
   "execution_count": 18,
   "id": "4a872b04",
   "metadata": {},
   "outputs": [],
   "source": [
    "def sol(alist):\n",
    "    maxI = max(alist) + 1\n",
    "    nlist = [0 for i in range(maxI)]\n",
    "    for j in alist:\n",
    "        nlist[j] += 1\n",
    "    \n",
    "    for i in range (len(nlist)):\n",
    "        for k in range(nlist[i]):\n",
    "            print(i, end=' ')"
   ]
  }
 ],
 "metadata": {
  "kernelspec": {
   "display_name": "Python 3 (ipykernel)",
   "language": "python",
   "name": "python3"
  },
  "language_info": {
   "codemirror_mode": {
    "name": "ipython",
    "version": 3
   },
   "file_extension": ".py",
   "mimetype": "text/x-python",
   "name": "python",
   "nbconvert_exporter": "python",
   "pygments_lexer": "ipython3",
   "version": "3.9.6"
  }
 },
 "nbformat": 4,
 "nbformat_minor": 5
}
