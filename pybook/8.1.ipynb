{
 "cells": [
  {
   "cell_type": "code",
   "execution_count": 24,
   "id": "e64e194a",
   "metadata": {},
   "outputs": [],
   "source": [
    "def fibonacci1(n):\n",
    "    if n == 1 or n == 2:\n",
    "        return 1\n",
    "    return fibonacci1(n-1) + fibonacci1(n-2)"
   ]
  },
  {
   "cell_type": "code",
   "execution_count": 26,
   "id": "312a95eb",
   "metadata": {},
   "outputs": [
    {
     "data": {
      "text/plain": [
       "55"
      ]
     },
     "execution_count": 26,
     "metadata": {},
     "output_type": "execute_result"
    }
   ],
   "source": [
    "fibonacci1(10)"
   ]
  },
  {
   "cell_type": "code",
   "execution_count": 32,
   "id": "88067aaf",
   "metadata": {},
   "outputs": [],
   "source": [
    "def fibonacci2(n,nlist):\n",
    "    if n == 1 or n == 2:\n",
    "        return 1\n",
    "    if n1list[n] != 0:\n",
    "        return n1list[n]\n",
    "    nlist[n] = fibonacci2(n-1, n1list) + fibonacci2(n -2,n1list)\n",
    "    return n1list[n]"
   ]
  },
  {
   "cell_type": "code",
   "execution_count": 31,
   "id": "aadb30d4",
   "metadata": {},
   "outputs": [
    {
     "data": {
      "text/plain": [
       "218922995834555169026"
      ]
     },
     "execution_count": 31,
     "metadata": {},
     "output_type": "execute_result"
    }
   ],
   "source": [
    "n1list = [0] * 100\n",
    "fibonacci2(99,n1list)"
   ]
  },
  {
   "cell_type": "code",
   "execution_count": 45,
   "id": "5435edb0",
   "metadata": {},
   "outputs": [],
   "source": [
    "def fibonacci3(n, n2list):\n",
    "    n2list[1]= 1\n",
    "    n2list[2]= 1\n",
    "    for i in range(3, n+1):\n",
    "        n2list[i] = n2list[i-1] + n2list[i-2]\n",
    "    \n",
    "    return(n2list[n])"
   ]
  },
  {
   "cell_type": "code",
   "execution_count": 46,
   "id": "b54e8ffa",
   "metadata": {},
   "outputs": [
    {
     "data": {
      "text/plain": [
       "218922995834555169026"
      ]
     },
     "execution_count": 46,
     "metadata": {},
     "output_type": "execute_result"
    }
   ],
   "source": [
    "n2list = [0] * 100\n",
    "fibonacci3(99,n2list)"
   ]
  }
 ],
 "metadata": {
  "kernelspec": {
   "display_name": "Python 3 (ipykernel)",
   "language": "python",
   "name": "python3"
  },
  "language_info": {
   "codemirror_mode": {
    "name": "ipython",
    "version": 3
   },
   "file_extension": ".py",
   "mimetype": "text/x-python",
   "name": "python",
   "nbconvert_exporter": "python",
   "pygments_lexer": "ipython3",
   "version": "3.9.6"
  }
 },
 "nbformat": 4,
 "nbformat_minor": 5
}
