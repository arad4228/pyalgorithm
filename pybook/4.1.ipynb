{
 "cells": [
  {
   "cell_type": "code",
   "execution_count": 16,
   "id": "dcdf8d90",
   "metadata": {},
   "outputs": [],
   "source": [
    "def sol(n, list):\n",
    "    myposition = [1,1]\n",
    "    \n",
    "    for move in (list):\n",
    "        if move == 'L':\n",
    "            if (myposition[1] - 1 > 0):\n",
    "                myposition[1] -= 1\n",
    "        elif move == 'R':\n",
    "            if(myposition[1] + 1 <= n):\n",
    "                myposition[1] += 1\n",
    "        elif move == 'U':\n",
    "            if (myposition[0] - 1 > 0):\n",
    "                myposition[0] -= 1\n",
    "        elif move == 'D':\n",
    "            if(myposition[0] + 1 <= n):\n",
    "                myposition[0] += 1\n",
    "    print(myposition[0],myposition[1])\n",
    "        "
   ]
  },
  {
   "cell_type": "code",
   "execution_count": 17,
   "id": "1849c58b",
   "metadata": {},
   "outputs": [
    {
     "name": "stdout",
     "output_type": "stream",
     "text": [
      "3 4\n"
     ]
    }
   ],
   "source": [
    "sol(5, ['R','R','R','U','D','D'])"
   ]
  }
 ],
 "metadata": {
  "kernelspec": {
   "display_name": "Python 3 (ipykernel)",
   "language": "python",
   "name": "python3"
  },
  "language_info": {
   "codemirror_mode": {
    "name": "ipython",
    "version": 3
   },
   "file_extension": ".py",
   "mimetype": "text/x-python",
   "name": "python",
   "nbconvert_exporter": "python",
   "pygments_lexer": "ipython3",
   "version": "3.9.6"
  }
 },
 "nbformat": 4,
 "nbformat_minor": 5
}
