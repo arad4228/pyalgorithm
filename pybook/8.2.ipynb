{
 "cells": [
  {
   "cell_type": "markdown",
   "id": "500d34a1",
   "metadata": {},
   "source": [
    "## 1로 만들기\n",
    "주어진 숫자를 1로 만들기 위한 연산은 4가지 이다.\n",
    "1. x가 5로 나눠떨어지면 5로 나눈다.\n",
    "2. x가 3로 나눠떨어지면 3로 나눈다.\n",
    "3. x가 2로 나눠떨어지면 2로 나눈다.\n",
    "4. x에서 1을 뺀다.\n"
   ]
  },
  {
   "cell_type": "code",
   "execution_count": 1,
   "id": "7717f7b6",
   "metadata": {},
   "outputs": [
    {
     "ename": "IndentationError",
     "evalue": "expected an indented block (Temp/ipykernel_9236/100315013.py, line 2)",
     "output_type": "error",
     "traceback": [
      "\u001b[1;36m  File \u001b[1;32m\"C:\\Users\\user\\AppData\\Local\\Temp/ipykernel_9236/100315013.py\"\u001b[1;36m, line \u001b[1;32m2\u001b[0m\n\u001b[1;33m    \u001b[0m\n\u001b[1;37m    ^\u001b[0m\n\u001b[1;31mIndentationError\u001b[0m\u001b[1;31m:\u001b[0m expected an indented block\n"
     ]
    }
   ],
   "source": [
    "def sol(n):\n",
    "    nlist = []\n",
    "    cont = 0\n",
    "    whlie n not 1:\n",
    "        if "
   ]
  },
  {
   "cell_type": "code",
   "execution_count": null,
   "id": "8e37be47",
   "metadata": {},
   "outputs": [],
   "source": [
    "n = 26"
   ]
  }
 ],
 "metadata": {
  "kernelspec": {
   "display_name": "Python 3 (ipykernel)",
   "language": "python",
   "name": "python3"
  },
  "language_info": {
   "codemirror_mode": {
    "name": "ipython",
    "version": 3
   },
   "file_extension": ".py",
   "mimetype": "text/x-python",
   "name": "python",
   "nbconvert_exporter": "python",
   "pygments_lexer": "ipython3",
   "version": "3.9.6"
  }
 },
 "nbformat": 4,
 "nbformat_minor": 5
}
