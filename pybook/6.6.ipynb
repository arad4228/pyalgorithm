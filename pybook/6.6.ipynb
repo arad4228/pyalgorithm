{
 "cells": [
  {
   "cell_type": "code",
   "execution_count": 14,
   "id": "b22864f5",
   "metadata": {},
   "outputs": [
    {
     "name": "stdout",
     "output_type": "stream",
     "text": [
      "3\n",
      "김보성 35\n",
      "아리유 67\n",
      "아랍인 18\n",
      "아랍인 김보성 아리유 "
     ]
    }
   ],
   "source": [
    "n = int(input())\n",
    "sol(n)"
   ]
  },
  {
   "cell_type": "code",
   "execution_count": 13,
   "id": "2daaaea5",
   "metadata": {},
   "outputs": [],
   "source": [
    "def sol(n):\n",
    "    slist = []\n",
    "    for i in range(n):\n",
    "        name, grade = input().split()\n",
    "        grade = int(grade)\n",
    "        slist.append([name, grade])\n",
    "    slist.sort(key = lambda x:x[1])\n",
    "    \n",
    "    for i in slist:\n",
    "        print(i[0], end = ' ')"
   ]
  }
 ],
 "metadata": {
  "kernelspec": {
   "display_name": "Python 3 (ipykernel)",
   "language": "python",
   "name": "python3"
  },
  "language_info": {
   "codemirror_mode": {
    "name": "ipython",
    "version": 3
   },
   "file_extension": ".py",
   "mimetype": "text/x-python",
   "name": "python",
   "nbconvert_exporter": "python",
   "pygments_lexer": "ipython3",
   "version": "3.9.6"
  }
 },
 "nbformat": 4,
 "nbformat_minor": 5
}
