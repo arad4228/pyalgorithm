{
 "cells": [
  {
   "cell_type": "markdown",
   "id": "ac50ae46",
   "metadata": {},
   "source": [
    "## 바닥공사\n",
    "\n",
    "가로 길이 m, 세로길이 2인 바닥을 공사하려고 한다.\n",
    "\n",
    "이 바닥을 1X2 덮개, 2X1 덮개, 2X2덮개를 사용해 덮으려고 한다.\n",
    "\n",
    "따라서 바닥을 채우는 경우의 수를 출력한다."
   ]
  },
  {
   "cell_type": "code",
   "execution_count": 15,
   "id": "c890018b",
   "metadata": {},
   "outputs": [
    {
     "name": "stdout",
     "output_type": "stream",
     "text": [
      "5\n"
     ]
    }
   ],
   "source": [
    "#n = int(input())\n",
    "n = 3\n",
    "mysol(n)\n"
   ]
  },
  {
   "cell_type": "code",
   "execution_count": 14,
   "id": "a34063c5",
   "metadata": {},
   "outputs": [],
   "source": [
    "def mysol(n):\n",
    "    tileset = [0] *1001\n",
    "    \n",
    "    tileset[1] =1\n",
    "    tileset[2] =3\n",
    "    for i in range(3,n+1):\n",
    "        tileset[i]= (tileset[i-1] + 2*tileset[i-2]) % 795796\n",
    "    \n",
    "    print(tileset[n])"
   ]
  }
 ],
 "metadata": {
  "kernelspec": {
   "display_name": "Python 3 (ipykernel)",
   "language": "python",
   "name": "python3"
  },
  "language_info": {
   "codemirror_mode": {
    "name": "ipython",
    "version": 3
   },
   "file_extension": ".py",
   "mimetype": "text/x-python",
   "name": "python",
   "nbconvert_exporter": "python",
   "pygments_lexer": "ipython3",
   "version": "3.9.6"
  }
 },
 "nbformat": 4,
 "nbformat_minor": 5
}
