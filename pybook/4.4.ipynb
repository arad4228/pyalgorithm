{
 "cells": [
  {
   "cell_type": "code",
   "execution_count": 8,
   "id": "44d9792b",
   "metadata": {},
   "outputs": [
    {
     "name": "stdout",
     "output_type": "stream",
     "text": [
      "4 4\n",
      "1 1 0\n",
      "1 1 1 1\n",
      "1 0 0 1\n",
      "1 1  0 1\n",
      "1 1 1 1\n",
      "[1, 1]\n"
     ]
    }
   ],
   "source": [
    "n, m = map(int,input().split())\n",
    "x,y,status = map(int, input().split())\n",
    "\n",
    "sol(n,m,x,y)"
   ]
  },
  {
   "cell_type": "code",
   "execution_count": 7,
   "id": "8aac98b4",
   "metadata": {},
   "outputs": [],
   "source": [
    "def sol(n,m,x, y):\n",
    "    polist = [ ]\n",
    "    for i in range(m):\n",
    "        list = map(int,input().split(' '))\n",
    "    \n",
    "    start = [x,y]\n",
    "    "
   ]
  }
 ],
 "metadata": {
  "kernelspec": {
   "display_name": "Python 3 (ipykernel)",
   "language": "python",
   "name": "python3"
  },
  "language_info": {
   "codemirror_mode": {
    "name": "ipython",
    "version": 3
   },
   "file_extension": ".py",
   "mimetype": "text/x-python",
   "name": "python",
   "nbconvert_exporter": "python",
   "pygments_lexer": "ipython3",
   "version": "3.9.6"
  }
 },
 "nbformat": 4,
 "nbformat_minor": 5
}
