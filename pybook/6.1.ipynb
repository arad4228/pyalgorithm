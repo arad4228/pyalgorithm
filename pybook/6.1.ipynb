{
 "cells": [
  {
   "cell_type": "code",
   "execution_count": 32,
   "id": "147d1afc",
   "metadata": {},
   "outputs": [
    {
     "name": "stdout",
     "output_type": "stream",
     "text": [
      "[0, 1, 2, 3, 4, 5, 6, 7, 8, 9]\n",
      "[0, 1, 2, 3, 4, 5, 6, 7, 8, 9]\n"
     ]
    }
   ],
   "source": [
    "array1 = [7, 5, 9, 0, 3, 1, 6, 2, 4, 8]\n",
    "array2 = [7, 5, 9, 0, 3, 1, 6, 2, 4, 8]\n",
    "sol1(array1)\n",
    "sol2(array2)\n",
    "\n",
    "print(array1)\n",
    "print(array2)"
   ]
  },
  {
   "cell_type": "code",
   "execution_count": 31,
   "id": "596c4c15",
   "metadata": {},
   "outputs": [],
   "source": [
    "def sol1(alist):\n",
    "    for i in range(len(alist)):\n",
    "        ian = i\n",
    "        minv = alist[i]\n",
    "        for j in alist[i:]:\n",
    "            if minv > j:\n",
    "                minv = j\n",
    "        minin = alist.index(minv)\n",
    "        alist[i],alist[minin] = alist[minin],alist[i]"
   ]
  },
  {
   "cell_type": "code",
   "execution_count": 22,
   "id": "8b2511dd",
   "metadata": {},
   "outputs": [],
   "source": [
    "def sol2(array):\n",
    "    for i in range(len(array)):\n",
    "        min_index =  i\n",
    "        for j in range(i+1,len(array)):\n",
    "            if array[min_index] > array [j]:\n",
    "                min_index = j\n",
    "        array[i],array[min_index] = array[min_index], array[i]\n",
    "        "
   ]
  }
 ],
 "metadata": {
  "kernelspec": {
   "display_name": "Python 3 (ipykernel)",
   "language": "python",
   "name": "python3"
  },
  "language_info": {
   "codemirror_mode": {
    "name": "ipython",
    "version": 3
   },
   "file_extension": ".py",
   "mimetype": "text/x-python",
   "name": "python",
   "nbconvert_exporter": "python",
   "pygments_lexer": "ipython3",
   "version": "3.9.6"
  }
 },
 "nbformat": 4,
 "nbformat_minor": 5
}
