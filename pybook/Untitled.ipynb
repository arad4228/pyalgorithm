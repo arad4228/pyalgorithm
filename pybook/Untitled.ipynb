{
 "cells": [
  {
   "cell_type": "code",
   "execution_count": null,
   "id": "37386354",
   "metadata": {},
   "outputs": [],
   "source": [
    "array1 =[5,7,9,0,3,1,6,2,4,8]\n",
    "\n",
    "sol(array1)\n",
    "print(array1)"
   ]
  },
  {
   "cell_type": "code",
   "execution_count": 1,
   "id": "e7c8a85f",
   "metadata": {},
   "outputs": [],
   "source": [
    "def sol(alist):\n",
    "    if len(alist) <= 1:\n",
    "        return\n",
    "    pivot = alist[0]\n",
    "    left, right = 1 ,len(alist)-1\n",
    "    while left <= right:\n",
    "        while (alist[left] <= pivot) and (left <= right):\n",
    "            left +=1\n",
    "        while (pivot <= alist[right]) and (left <= right):    \n",
    "            right -= 1\n",
    "        if (left > right):\n",
    "            alist[0],alist[right] = alist[right],alist[0]\n",
    "        else:\n",
    "            alist[left], alist[right] = alist[right],alist[left]\n",
    "    \n",
    "    sol(alist[:right])\n",
    "    sol(alist[right:])"
   ]
  }
 ],
 "metadata": {
  "kernelspec": {
   "display_name": "Python 3 (ipykernel)",
   "language": "python",
   "name": "python3"
  },
  "language_info": {
   "codemirror_mode": {
    "name": "ipython",
    "version": 3
   },
   "file_extension": ".py",
   "mimetype": "text/x-python",
   "name": "python",
   "nbconvert_exporter": "python",
   "pygments_lexer": "ipython3",
   "version": "3.9.6"
  }
 },
 "nbformat": 4,
 "nbformat_minor": 5
}
