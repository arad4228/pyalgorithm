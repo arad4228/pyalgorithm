{
 "cells": [
  {
   "cell_type": "code",
   "execution_count": 50,
   "id": "21acc150",
   "metadata": {},
   "outputs": [
    {
     "name": "stdout",
     "output_type": "stream",
     "text": [
      "4\n",
      "4\n"
     ]
    }
   ],
   "source": [
    "#n, t = map(int,input().split())#\n",
    "#nlist = list(map(int,input().split()))\n",
    "n, t = 10, 7\n",
    "nlist = [1,3,5,7,9,11,13,15,17,19]\n",
    "\n",
    "result = sol1(nlist,0,n, t)\n",
    "print(result + 1)\n",
    "\n",
    "result2 = sol2(nlist,0,n-1,t)\n",
    "print(result2 + 1)\n"
   ]
  },
  {
   "cell_type": "code",
   "execution_count": 47,
   "id": "ce65e12f",
   "metadata": {},
   "outputs": [],
   "source": [
    "def sol1(nlist,start,end, target):\n",
    "    if start == end:\n",
    "        if nlist[start] == target:\n",
    "            return start\n",
    "        else:\n",
    "            return\n",
    "    \n",
    "    mid = (start + end - 1)// 2\n",
    "    if nlist[mid] == target:\n",
    "        return mid\n",
    "    \n",
    "    if nlist[mid] < target:\n",
    "        return sol1(nlist,mid+1,end, target)\n",
    "    else:\n",
    "        return sol1(nlist,start,mid-1,target)"
   ]
  },
  {
   "cell_type": "code",
   "execution_count": 49,
   "id": "a3eee67d",
   "metadata": {},
   "outputs": [],
   "source": [
    "def sol2(nlist,start,end,target):\n",
    "    \n",
    "    while start <= end:\n",
    "        if start == end:\n",
    "            if nlist[start] == target:\n",
    "                return start\n",
    "            else:\n",
    "                return\n",
    "        \n",
    "        mid = (start + end) // 2\n",
    "        \n",
    "        if nlist[mid] == target:\n",
    "            return mid\n",
    "        \n",
    "        elif nlist[mid] < target:\n",
    "            start = mid + 1\n",
    "        \n",
    "        else:\n",
    "            end = mid - 1"
   ]
  }
 ],
 "metadata": {
  "kernelspec": {
   "display_name": "Python 3 (ipykernel)",
   "language": "python",
   "name": "python3"
  },
  "language_info": {
   "codemirror_mode": {
    "name": "ipython",
    "version": 3
   },
   "file_extension": ".py",
   "mimetype": "text/x-python",
   "name": "python",
   "nbconvert_exporter": "python",
   "pygments_lexer": "ipython3",
   "version": "3.9.6"
  }
 },
 "nbformat": 4,
 "nbformat_minor": 5
}
