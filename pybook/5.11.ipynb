{
 "cells": [
  {
   "cell_type": "code",
   "execution_count": 2,
   "id": "52f8efa8",
   "metadata": {},
   "outputs": [
    {
     "name": "stdout",
     "output_type": "stream",
     "text": [
      "5 6\n",
      "101010\n",
      "111111\n",
      "000001\n",
      "111111\n",
      "111111\n",
      "1\n"
     ]
    }
   ],
   "source": [
    "from collections import deque\n",
    "\n",
    "n, m = map(int, input().split())\n",
    "mx = [-1, 1, 0, 0]\n",
    "my = [0, 0, -1, 1]\n",
    "graph = []\n",
    "\n",
    "for i in range (n):\n",
    "    graph.append(list(map(int, input())))\n",
    "\n",
    "print(sol(graph,0,0,mx,my,n,m))"
   ]
  },
  {
   "cell_type": "code",
   "execution_count": 1,
   "id": "540e8555",
   "metadata": {},
   "outputs": [],
   "source": [
    "def sol(graph,x,y, mx, my,n,m):\n",
    "    queue = deque()\n",
    "    queue.append((x,y))\n",
    "    while queue:\n",
    "        x,y = queue.popleft()\n",
    "        for i in range(4):\n",
    "            nx = x + mx[i]\n",
    "            ny = y + my[i]\n",
    "            \n",
    "            if nx < 0 or ny < 0 or nx >= n or ny >= m:\n",
    "                continue\n",
    "            if graph[nx][ny] == 0:\n",
    "                continue\n",
    "            if graph[nx][ny] == 1:\n",
    "                graph[nx][ny] == graph[x][y] + 1\n",
    "                queue.append((nx,ny))\n",
    "        return graph[n-1][m-1]\n",
    "        \n",
    "            "
   ]
  }
 ],
 "metadata": {
  "kernelspec": {
   "display_name": "Python 3 (ipykernel)",
   "language": "python",
   "name": "python3"
  },
  "language_info": {
   "codemirror_mode": {
    "name": "ipython",
    "version": 3
   },
   "file_extension": ".py",
   "mimetype": "text/x-python",
   "name": "python",
   "nbconvert_exporter": "python",
   "pygments_lexer": "ipython3",
   "version": "3.9.6"
  }
 },
 "nbformat": 4,
 "nbformat_minor": 5
}
