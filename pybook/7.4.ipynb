{
 "cells": [
  {
   "cell_type": "markdown",
   "id": "4700317e",
   "metadata": {},
   "source": [
    "# m 갯수가 되는 떡의 길이 찾기\n",
    "\n",
    "n은 떡의 갯수\n",
    "m은 가져갈 길이\n",
    "다음에 떡리스트를 준다."
   ]
  },
  {
   "cell_type": "code",
   "execution_count": 42,
   "id": "134b5870",
   "metadata": {},
   "outputs": [],
   "source": [
    "n , m = 4, 6\n",
    "ilist = [19, 15, 10, 17]"
   ]
  },
  {
   "cell_type": "code",
   "execution_count": 47,
   "id": "42277bad",
   "metadata": {},
   "outputs": [
    {
     "name": "stdout",
     "output_type": "stream",
     "text": [
      "15\n"
     ]
    }
   ],
   "source": [
    "mysol(ilist,0, max(ilist),m)"
   ]
  },
  {
   "cell_type": "code",
   "execution_count": 48,
   "id": "eca15151",
   "metadata": {},
   "outputs": [],
   "source": [
    "def mysol(ilist,start, end, m):\n",
    "    result = 0\n",
    "    \n",
    "    while result <= m:\n",
    "        if start == end:\n",
    "            break\n",
    "        \n",
    "        mid = (end + start)// 2\n",
    "        \n",
    "        for i in ilist:\n",
    "            if i > mid:\n",
    "                result = result + i - mid\n",
    "        \n",
    "        if result == m:\n",
    "            print(mid)\n",
    "            return\n",
    "        \n",
    "        elif result > m:\n",
    "            result = 0\n",
    "            start = mid+1\n",
    "        else:\n",
    "            result = 0\n",
    "            end = mid -1\n",
    "        "
   ]
  },
  {
   "cell_type": "code",
   "execution_count": 53,
   "id": "37dbd329",
   "metadata": {},
   "outputs": [
    {
     "name": "stdout",
     "output_type": "stream",
     "text": [
      "15\n"
     ]
    }
   ],
   "source": [
    "sol(ilist,0,max(ilist),m)"
   ]
  },
  {
   "cell_type": "code",
   "execution_count": 51,
   "id": "d35640a7",
   "metadata": {},
   "outputs": [],
   "source": [
    "def sol(array, start, end, m):\n",
    "    result = 0\n",
    "    \n",
    "    while start <= end:\n",
    "        total = 0\n",
    "        mid = (start + end) // 2\n",
    "        for x in array:\n",
    "            if x> mid:\n",
    "                total += x- mid\n",
    "        \n",
    "        if total < m:\n",
    "            end = mid -1\n",
    "        else:\n",
    "            result = mid\n",
    "            start = mid + 1\n",
    "    \n",
    "    print(result)"
   ]
  }
 ],
 "metadata": {
  "kernelspec": {
   "display_name": "Python 3 (ipykernel)",
   "language": "python",
   "name": "python3"
  },
  "language_info": {
   "codemirror_mode": {
    "name": "ipython",
    "version": 3
   },
   "file_extension": ".py",
   "mimetype": "text/x-python",
   "name": "python",
   "nbconvert_exporter": "python",
   "pygments_lexer": "ipython3",
   "version": "3.9.6"
  }
 },
 "nbformat": 4,
 "nbformat_minor": 5
}
