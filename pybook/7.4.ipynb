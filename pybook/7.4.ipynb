{
 "cells": [
  {
   "cell_type": "raw",
   "id": "7cbf73b4",
   "metadata": {},
   "source": [
    "n은 떡의 갯수\n",
    "m은 가져갈 길이\n",
    "다음에 떡리스트를 준다."
   ]
  },
  {
   "cell_type": "code",
   "execution_count": 33,
   "id": "134b5870",
   "metadata": {},
   "outputs": [],
   "source": [
    "n , m = 4, 6\n",
    "ilist = [19, 15, 10, 17]\n",
    "ilist.sort()"
   ]
  },
  {
   "cell_type": "code",
   "execution_count": null,
   "id": "42277bad",
   "metadata": {},
   "outputs": [],
   "source": [
    "sol(ilist,0, n,m)"
   ]
  },
  {
   "cell_type": "code",
   "execution_count": null,
   "id": "eca15151",
   "metadata": {},
   "outputs": [],
   "source": [
    "def sol(ilist,start, end, m):\n",
    "    result = 0\n",
    "    \n",
    "    while result <= m:\n",
    "        if start == end:\n",
    "            break\n",
    "\n",
    "        mid = (((ilist[end-1] - start) // 2 )+ start)\n",
    "        \n",
    "        print(mid)\n",
    "        for i in range(end):\n",
    "            if ilist[i] > mid:\n",
    "                ilist[i] = ilist[i] - mid\n",
    "            else:\n",
    "                ilist[i] = 0\n",
    "\n",
    "        resutl = sum(ilist)     \n",
    "        print(result)\n",
    "        if result == m:\n",
    "            print(mid)\n",
    "            return\n",
    "        \n",
    "        elif result > m:\n",
    "            result = 0\n",
    "            start = mid\n",
    "        "
   ]
  }
 ],
 "metadata": {
  "kernelspec": {
   "display_name": "Python 3 (ipykernel)",
   "language": "python",
   "name": "python3"
  },
  "language_info": {
   "codemirror_mode": {
    "name": "ipython",
    "version": 3
   },
   "file_extension": ".py",
   "mimetype": "text/x-python",
   "name": "python",
   "nbconvert_exporter": "python",
   "pygments_lexer": "ipython3",
   "version": "3.9.6"
  }
 },
 "nbformat": 4,
 "nbformat_minor": 5
}
