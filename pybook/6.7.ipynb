{
 "cells": [
  {
   "cell_type": "code",
   "execution_count": 36,
   "id": "212f4b6d",
   "metadata": {},
   "outputs": [
    {
     "name": "stdout",
     "output_type": "stream",
     "text": [
      "5 3\n",
      "1 2 5 4 3\n",
      "5 5 6 6 5\n",
      "26\n",
      "1 2 5 4 3\n",
      "5 5 6 6 5\n",
      "26\n"
     ]
    }
   ],
   "source": [
    "n, k = map(int,input().split())\n",
    "sol1(k)\n",
    "sol2(k)"
   ]
  },
  {
   "cell_type": "code",
   "execution_count": 35,
   "id": "b76981a7",
   "metadata": {},
   "outputs": [],
   "source": [
    "def sol1(k):\n",
    "    list1 = list(map(int,input().split()))\n",
    "    list2 = list(map(int,input().split()))\n",
    "    \n",
    "    list1.sort()\n",
    "    list2.sort(reverse=True)\n",
    "    \n",
    "    for i in range(k):\n",
    "        if list1[k-i] < list2[k-i]:\n",
    "            list1[:k-i],list2[:k-i] = list2[:k-i],list1[:k-i]\n",
    "            break\n",
    "    \n",
    "    print(sum(list1))\n",
    "    "
   ]
  },
  {
   "cell_type": "code",
   "execution_count": 32,
   "id": "c20b251d",
   "metadata": {},
   "outputs": [],
   "source": [
    "def sol2(k):\n",
    "    list1 = list(map(int,input().split()))\n",
    "    list2 = list(map(int,input().split()))\n",
    "    \n",
    "    list1.sort()\n",
    "    list2.sort(reverse=True)\n",
    "    \n",
    "    for i in range(k):\n",
    "        if list1[i] < list2[i]:\n",
    "            list1[i],list2[i]= list2[i],list1[i]\n",
    "    \n",
    "    print(sum(list1))"
   ]
  }
 ],
 "metadata": {
  "kernelspec": {
   "display_name": "Python 3 (ipykernel)",
   "language": "python",
   "name": "python3"
  },
  "language_info": {
   "codemirror_mode": {
    "name": "ipython",
    "version": 3
   },
   "file_extension": ".py",
   "mimetype": "text/x-python",
   "name": "python",
   "nbconvert_exporter": "python",
   "pygments_lexer": "ipython3",
   "version": "3.9.6"
  }
 },
 "nbformat": 4,
 "nbformat_minor": 5
}
