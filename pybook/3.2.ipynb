{
 "cells": [
  {
   "cell_type": "code",
   "execution_count": 15,
   "id": "28b61edd",
   "metadata": {},
   "outputs": [
    {
     "name": "stdout",
     "output_type": "stream",
     "text": [
      "5 8 3\n",
      "2 4 5 4 6\n",
      "[6, 5, 4, 4, 2]\n",
      "46\n"
     ]
    }
   ],
   "source": [
    "strl = input()\n",
    "strn = input()\n",
    "total = 0\n",
    "j = 0\n",
    "count = 1\n",
    "\n",
    "elist = strl.split(\" \")\n",
    "nlist = strn.split(\" \")\n",
    "\n",
    "elist = list(map(int, elist))\n",
    "nlist = list(map(int, nlist))\n",
    "nlist.sort(reverse =True)\n",
    "print(nlist)\n",
    "\n",
    "for i in range(elist[1]):\n",
    "    maxn = max(nlist[j:])\n",
    "    count += 1\n",
    "    total += maxn\n",
    "    if count % elist[2] == 0:\n",
    "        j += 1\n",
    "    if (i+1) % elist[2] == 0:\n",
    "        j = 0\n",
    "        \n",
    "        \n",
    "print(total)"
   ]
  }
 ],
 "metadata": {
  "kernelspec": {
   "display_name": "Python 3 (ipykernel)",
   "language": "python",
   "name": "python3"
  },
  "language_info": {
   "codemirror_mode": {
    "name": "ipython",
    "version": 3
   },
   "file_extension": ".py",
   "mimetype": "text/x-python",
   "name": "python",
   "nbconvert_exporter": "python",
   "pygments_lexer": "ipython3",
   "version": "3.9.6"
  }
 },
 "nbformat": 4,
 "nbformat_minor": 5
}
