{
 "cells": [
  {
   "cell_type": "code",
   "execution_count": 87,
   "id": "21acc150",
   "metadata": {},
   "outputs": [
    {
     "name": "stdout",
     "output_type": "stream",
     "text": [
      "10 7\n",
      "1 3 5 7 9 11 13 15 17 19\n",
      "4\n"
     ]
    }
   ],
   "source": [
    "n, t = map(int,input().split())#\n",
    "\n",
    "nlist = list(map(int,input().split()))\n",
    "\n",
    "result = sol1(nlist,0,n, t)\n",
    "print(result+ 1)"
   ]
  },
  {
   "cell_type": "code",
   "execution_count": 88,
   "id": "ce65e12f",
   "metadata": {},
   "outputs": [],
   "source": [
    "def sol1(nlist,start,end, target):\n",
    "    if start == end:\n",
    "        if nlist[start] == target:\n",
    "            return start\n",
    "        else:\n",
    "            return\n",
    "    \n",
    "    mid = (start + end - 1)// 2\n",
    "    if nlist[mid] == target:\n",
    "        return mid\n",
    "    \n",
    "    if nlist[mid] < target:\n",
    "        return sol(nlist,mid+1,end, target)\n",
    "    else:\n",
    "        return sol(nlist,start,mid-1,target)"
   ]
  },
  {
   "cell_type": "code",
   "execution_count": null,
   "id": "a3eee67d",
   "metadata": {},
   "outputs": [],
   "source": [
    "def sol2(nlist,start,end):\n",
    "    "
   ]
  }
 ],
 "metadata": {
  "kernelspec": {
   "display_name": "Python 3 (ipykernel)",
   "language": "python",
   "name": "python3"
  },
  "language_info": {
   "codemirror_mode": {
    "name": "ipython",
    "version": 3
   },
   "file_extension": ".py",
   "mimetype": "text/x-python",
   "name": "python",
   "nbconvert_exporter": "python",
   "pygments_lexer": "ipython3",
   "version": "3.9.6"
  }
 },
 "nbformat": 4,
 "nbformat_minor": 5
}
