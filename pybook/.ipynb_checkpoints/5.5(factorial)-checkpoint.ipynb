{
 "cells": [
  {
   "cell_type": "code",
   "execution_count": 6,
   "id": "d8aca970",
   "metadata": {},
   "outputs": [],
   "source": [
    "def factorial(n):\n",
    "    result = 1\n",
    "    for i in range(1, n + 1):\n",
    "        result *= i\n",
    "    return result"
   ]
  },
  {
   "cell_type": "code",
   "execution_count": 7,
   "id": "25ea157e",
   "metadata": {},
   "outputs": [],
   "source": [
    "def factorial_re(n):\n",
    "    if n <= 1:\n",
    "        return 1\n",
    "    return n* factorial_re(n-1)"
   ]
  },
  {
   "cell_type": "code",
   "execution_count": 10,
   "id": "6dcf02b0",
   "metadata": {},
   "outputs": [
    {
     "name": "stdout",
     "output_type": "stream",
     "text": [
      "3628800\n",
      "3628800\n"
     ]
    }
   ],
   "source": [
    "print(factorial(10))\n",
    "print(factorial_re(10))"
   ]
  }
 ],
 "metadata": {
  "kernelspec": {
   "display_name": "Python 3 (ipykernel)",
   "language": "python",
   "name": "python3"
  },
  "language_info": {
   "codemirror_mode": {
    "name": "ipython",
    "version": 3
   },
   "file_extension": ".py",
   "mimetype": "text/x-python",
   "name": "python",
   "nbconvert_exporter": "python",
   "pygments_lexer": "ipython3",
   "version": "3.9.4"
  }
 },
 "nbformat": 4,
 "nbformat_minor": 5
}
