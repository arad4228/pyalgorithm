{
 "cells": [
  {
   "cell_type": "code",
   "execution_count": 13,
   "id": "71bb3e8b",
   "metadata": {},
   "outputs": [
    {
     "name": "stdout",
     "output_type": "stream",
     "text": [
      "3\n",
      "15\n",
      "27\n",
      "12\n",
      "27 15 12 "
     ]
    }
   ],
   "source": [
    "n = int(input())\n",
    "sol(n)"
   ]
  },
  {
   "cell_type": "code",
   "execution_count": 12,
   "id": "3c27a78a",
   "metadata": {},
   "outputs": [],
   "source": [
    "def sol(n):\n",
    "    list = []\n",
    "    for i in range(n):\n",
    "        list.append(int(input()))\n",
    "        \n",
    "    list.sort(reverse=True)\n",
    "    for i in list:\n",
    "        print(i, end = \" \")"
   ]
  }
 ],
 "metadata": {
  "kernelspec": {
   "display_name": "Python 3 (ipykernel)",
   "language": "python",
   "name": "python3"
  },
  "language_info": {
   "codemirror_mode": {
    "name": "ipython",
    "version": 3
   },
   "file_extension": ".py",
   "mimetype": "text/x-python",
   "name": "python",
   "nbconvert_exporter": "python",
   "pygments_lexer": "ipython3",
   "version": "3.9.6"
  }
 },
 "nbformat": 4,
 "nbformat_minor": 5
}
