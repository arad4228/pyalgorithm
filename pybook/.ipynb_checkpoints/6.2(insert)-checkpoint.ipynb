{
 "cells": [
  {
   "cell_type": "code",
   "execution_count": 118,
   "id": "b17991db",
   "metadata": {},
   "outputs": [
    {
     "name": "stdout",
     "output_type": "stream",
     "text": [
      "[0, 1, 2, 3, 4, 5, 6, 7, 7, 7, 8, 8, 8, 9]\n",
      "[0, 1, 2, 3, 4, 5, 6, 7, 8, 9]\n",
      "[7, 9, 5, 3, 1, 6, 2, 4, 8, 7, 8, 7, 8, 0]\n"
     ]
    }
   ],
   "source": [
    "array1 =  [7, 5, 9, 0, 3, 1, 6, 2, 4, 8,7,8,7,8]\n",
    "array2 =  [7, 5, 9, 0, 3, 1, 6, 2, 4, 8]\n",
    "array3 =  [7, 5, 9, 0, 3, 1, 6, 2, 4, 8,7,8,7,8]\n",
    "sol1(array1)\n",
    "sol2(array2)\n",
    "sol3(array3)\n",
    "\n",
    "     \n",
    "print(array1)\n",
    "print(array2)\n",
    "print(array3)"
   ]
  },
  {
   "cell_type": "code",
   "execution_count": 114,
   "id": "14ce8048",
   "metadata": {},
   "outputs": [],
   "source": [
    "def sol1(alist):\n",
    "    for i in range(len(alist)):\n",
    "        cv = alist[i]\n",
    "        for j in range(len(alist[:i])):\n",
    "            if cv <alist[j]:\n",
    "                del(alist[i])\n",
    "                alist.insert(j,cv)\n",
    "                break"
   ]
  },
  {
   "cell_type": "code",
   "execution_count": 116,
   "id": "89c20a21",
   "metadata": {},
   "outputs": [],
   "source": [
    "def sol2(alist):\n",
    "    for i in range(1, len(alist)):\n",
    "        for j in range(i,0,-1):\n",
    "            if alist[j] < alist[j-1]:\n",
    "                alist[j], alist[j-1] = alist[j-1],alist[j]\n",
    "            else:\n",
    "                break\n",
    "                "
   ]
  },
  {
   "cell_type": "code",
   "execution_count": 117,
   "id": "d4614ce3",
   "metadata": {},
   "outputs": [],
   "source": [
    "def sol3(alist):\n",
    "    for i in range(1,len(alist)):\n",
    "        cv = alist[i]\n",
    "        for j in range(i,0,-1):\n",
    "            if cv > alist[j]:\n",
    "                alist.insert(j,cv)\n",
    "                del(alist[i+1])\n",
    "                break"
   ]
  }
 ],
 "metadata": {
  "kernelspec": {
   "display_name": "Python 3 (ipykernel)",
   "language": "python",
   "name": "python3"
  },
  "language_info": {
   "codemirror_mode": {
    "name": "ipython",
    "version": 3
   },
   "file_extension": ".py",
   "mimetype": "text/x-python",
   "name": "python",
   "nbconvert_exporter": "python",
   "pygments_lexer": "ipython3",
   "version": "3.9.6"
  }
 },
 "nbformat": 4,
 "nbformat_minor": 5
}
