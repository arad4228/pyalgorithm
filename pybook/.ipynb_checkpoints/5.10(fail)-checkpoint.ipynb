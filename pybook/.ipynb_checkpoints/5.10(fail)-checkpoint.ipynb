{
 "cells": [
  {
   "cell_type": "code",
   "execution_count": 16,
   "id": "0af0372e",
   "metadata": {},
   "outputs": [
    {
     "name": "stdout",
     "output_type": "stream",
     "text": [
      "3 3\n",
      "100\n",
      "111\n",
      "000\n",
      "[[1, 0, 0], [1, 1, 1], [0, 0, 0]]\n",
      "2\n"
     ]
    }
   ],
   "source": [
    "n, m = map(int, input().split())\n",
    "graph = []\n",
    "count = 0\n",
    "for i in range (n):\n",
    "    graph.append(list(map(int, input())))\n",
    "# 리스트 추가.\n",
    "print(graph)\n",
    "\n",
    "for j in range(n):\n",
    "    for k in range(m):\n",
    "        if sol(graph,j,k,n,m):\n",
    "            count+=1\n",
    "\n",
    "print(count)"
   ]
  },
  {
   "cell_type": "code",
   "execution_count": 15,
   "id": "b08c45bc",
   "metadata": {},
   "outputs": [],
   "source": [
    "def sol(graph,j,k,n,m):\n",
    "    if j >= n or j <= -1 or k <= -1 or k >= m:\n",
    "        return False\n",
    "    if graph[j][k] == 0:\n",
    "        graph[j][k] = 1\n",
    "        sol(graph,j+1,k,n,m)\n",
    "        sol(graph,j,k+1,n,m)\n",
    "        sol(graph,j-1,k,n,m)\n",
    "        sol(graph,j,k-1,n,m)\n",
    "        return True\n",
    "    return False"
   ]
  },
  {
   "cell_type": "code",
   "execution_count": null,
   "id": "94f6c1f9",
   "metadata": {},
   "outputs": [],
   "source": []
  }
 ],
 "metadata": {
  "kernelspec": {
   "display_name": "Python 3 (ipykernel)",
   "language": "python",
   "name": "python3"
  },
  "language_info": {
   "codemirror_mode": {
    "name": "ipython",
    "version": 3
   },
   "file_extension": ".py",
   "mimetype": "text/x-python",
   "name": "python",
   "nbconvert_exporter": "python",
   "pygments_lexer": "ipython3",
   "version": "3.9.6"
  }
 },
 "nbformat": 4,
 "nbformat_minor": 5
}
