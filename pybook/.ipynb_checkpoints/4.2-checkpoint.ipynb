{
 "cells": [
  {
   "cell_type": "code",
   "execution_count": 27,
   "id": "8843696d",
   "metadata": {},
   "outputs": [
    {
     "name": "stdout",
     "output_type": "stream",
     "text": [
      "5\n",
      "11475\n"
     ]
    }
   ],
   "source": [
    "n = int(input())\n",
    "sol(n)"
   ]
  },
  {
   "cell_type": "code",
   "execution_count": 26,
   "id": "87e64557",
   "metadata": {},
   "outputs": [],
   "source": [
    "def sol(n):\n",
    "    sc = 0\n",
    "    for i in range(60):\n",
    "        if '3' in str(i):\n",
    "            sc += 1\n",
    "    hv = ((60*sc)*2) - (sc*sc)\n",
    "    hc = 0\n",
    "    for j in range(n):\n",
    "        if (str(j) in '3'):\n",
    "            hc += 1\n",
    "    val = (hc * 3600) + (hv * n)\n",
    "    print(val)"
   ]
  }
 ],
 "metadata": {
  "kernelspec": {
   "display_name": "Python 3 (ipykernel)",
   "language": "python",
   "name": "python3"
  },
  "language_info": {
   "codemirror_mode": {
    "name": "ipython",
    "version": 3
   },
   "file_extension": ".py",
   "mimetype": "text/x-python",
   "name": "python",
   "nbconvert_exporter": "python",
   "pygments_lexer": "ipython3",
   "version": "3.9.4"
  }
 },
 "nbformat": 4,
 "nbformat_minor": 5
}
