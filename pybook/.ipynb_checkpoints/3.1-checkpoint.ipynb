{
 "cells": [
  {
   "cell_type": "code",
   "execution_count": 18,
   "id": "5a9aba49",
   "metadata": {},
   "outputs": [
    {
     "name": "stdout",
     "output_type": "stream",
     "text": [
      "6\n"
     ]
    }
   ],
   "source": [
    "n = 1260\n",
    "\n",
    "i = 0\n",
    "money = [500,100,50,10]\n",
    "cost = 0\n",
    "\n",
    "while n > 0:\n",
    "    cost += (n // money[i])\n",
    "    n = n - (money[i]*(n//money[i]))\n",
    "    i = i + 1\n",
    "\n",
    "print(cost)\n"
   ]
  },
  {
   "cell_type": "code",
   "execution_count": 118,
   "id": "3ecf2649",
   "metadata": {},
   "outputs": [
    {
     "name": "stdout",
     "output_type": "stream",
     "text": [
      "[]\n",
      "[[1, 0, 3]]\n",
      "[4]\n"
     ]
    }
   ],
   "source": [
    "def costN(ex, costlist):\n",
    "    change = []\n",
    "    if not costlist:\n",
    "        for won in moneylist:\n",
    "            change.append(ex // won)\n",
    "            ex = ex - (won*(ex//won))\n",
    "        costlist.append(change)\n",
    "        cost.append(sum(change))\n",
    "        return True\n",
    "    else:\n",
    "        change = costlist.copy()\n",
    "        change = change[i:i]\n",
    "        print(change)\n",
    "        return False\n",
    "    \n",
    "n = 800\n",
    "chance = True\n",
    "moneylist = [500,400,100]\n",
    "costlist = []\n",
    "cost = []\n",
    "i = 0\n",
    "ch = 0\n",
    "\n",
    "while(True):\n",
    "    if chance == False:\n",
    "        break\n",
    "    else:\n",
    "        chance = costN(n, costlist)\n",
    "        \n",
    "print(costlist)\n",
    "print(cost)"
   ]
  },
  {
   "cell_type": "code",
   "execution_count": null,
   "id": "d19f651a",
   "metadata": {},
   "outputs": [],
   "source": [
    "list = [2,3,5][4,5,6]\n",
    "clist = list.copy()\n",
    "print(clist)\n"
   ]
  }
 ],
 "metadata": {
  "kernelspec": {
   "display_name": "Python 3 (ipykernel)",
   "language": "python",
   "name": "python3"
  },
  "language_info": {
   "codemirror_mode": {
    "name": "ipython",
    "version": 3
   },
   "file_extension": ".py",
   "mimetype": "text/x-python",
   "name": "python",
   "nbconvert_exporter": "python",
   "pygments_lexer": "ipython3",
   "version": "3.9.6"
  }
 },
 "nbformat": 4,
 "nbformat_minor": 5
}
