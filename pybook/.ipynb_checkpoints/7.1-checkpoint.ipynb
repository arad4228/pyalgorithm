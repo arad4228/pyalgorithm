{
 "cells": [
  {
   "cell_type": "code",
   "execution_count": 8,
   "id": "61fbeb65",
   "metadata": {},
   "outputs": [
    {
     "name": "stdout",
     "output_type": "stream",
     "text": [
      "5 Dongbin\n",
      "Hanul Jonggu Dongbin Taeil Sangwook\n",
      "3\n"
     ]
    }
   ],
   "source": [
    "n, name = input().split()\n",
    "n = int(n)\n",
    "sol(n,name)"
   ]
  },
  {
   "cell_type": "code",
   "execution_count": 7,
   "id": "677a6298",
   "metadata": {},
   "outputs": [],
   "source": [
    "def sol(n, name):\n",
    "    nlist = list(input().split())\n",
    "    \n",
    "    for i in range(n):\n",
    "        if nlist[i] == name:\n",
    "            print(i+1)\n",
    "            return\n",
    "    \n",
    "        \n",
    "    "
   ]
  }
 ],
 "metadata": {
  "kernelspec": {
   "display_name": "Python 3 (ipykernel)",
   "language": "python",
   "name": "python3"
  },
  "language_info": {
   "codemirror_mode": {
    "name": "ipython",
    "version": 3
   },
   "file_extension": ".py",
   "mimetype": "text/x-python",
   "name": "python",
   "nbconvert_exporter": "python",
   "pygments_lexer": "ipython3",
   "version": "3.9.6"
  }
 },
 "nbformat": 4,
 "nbformat_minor": 5
}
