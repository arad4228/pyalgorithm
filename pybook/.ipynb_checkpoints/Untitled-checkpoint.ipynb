{
 "cells": [
  {
   "cell_type": "code",
   "execution_count": 39,
   "id": "b4fc4121",
   "metadata": {},
   "outputs": [
    {
     "name": "stdout",
     "output_type": "stream",
     "text": [
      "c2\n",
      "3 2\n",
      "6\n"
     ]
    }
   ],
   "source": [
    "position = input()\n",
    "sol(position)"
   ]
  },
  {
   "cell_type": "code",
   "execution_count": 37,
   "id": "a33c6577",
   "metadata": {},
   "outputs": [],
   "source": [
    "def sol(position):\n",
    "    polist = list(position)\n",
    "    count = 0\n",
    "    xlist = ['a','b','c','d','e','f','g','h']\n",
    "    \n",
    "    x = xlist.index(polist[0]) + 1\n",
    "    y = int(polist[1])\n",
    "    print(x,y)\n",
    "    if (x + 2) <= 8 and (y + 1) <= 8:\n",
    "        count+= 1\n",
    "    if (x + 2) <= 8 and (y - 1) >= 1:\n",
    "        count += 1\n",
    "    if (x - 1) >= 1 and (y - 2) >= 1:\n",
    "        count += 1\n",
    "    if (x - 2) >= 1 and (y + 1) <= 8:\n",
    "        count += 1\n",
    "    if (y + 2) <= 8 and (x + 1) <= 8:\n",
    "        count+= 1\n",
    "    if (y + 2) <= 8 and (x - 1) >= 1:\n",
    "        count += 1\n",
    "    if (y - 1) >= 1 and (x - 2) >= 1:\n",
    "        count += 1\n",
    "    if (y - 2) >= 1 and (x + 1) <= 8:\n",
    "        count += 1\n",
    "        \n",
    "    print(count)"
   ]
  }
 ],
 "metadata": {
  "kernelspec": {
   "display_name": "Python 3 (ipykernel)",
   "language": "python",
   "name": "python3"
  },
  "language_info": {
   "codemirror_mode": {
    "name": "ipython",
    "version": 3
   },
   "file_extension": ".py",
   "mimetype": "text/x-python",
   "name": "python",
   "nbconvert_exporter": "python",
   "pygments_lexer": "ipython3",
   "version": "3.9.6"
  }
 },
 "nbformat": 4,
 "nbformat_minor": 5
}
