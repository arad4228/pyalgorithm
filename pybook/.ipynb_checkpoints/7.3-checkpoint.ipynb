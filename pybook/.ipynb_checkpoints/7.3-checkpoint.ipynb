{
 "cells": [
  {
   "cell_type": "markdown",
   "id": "794e2ef7",
   "metadata": {},
   "source": [
    "부품찾기\n",
    "입력은 n = 5, [8, 3, 7, 9]\n",
    "부품이 n개 이고 m개의 종류의 부품을 대량으록 구매."
   ]
  },
  {
   "cell_type": "code",
   "execution_count": 31,
   "id": "24eb5aa4",
   "metadata": {},
   "outputs": [
    {
     "name": "stdout",
     "output_type": "stream",
     "text": [
      "no yes yes "
     ]
    }
   ],
   "source": [
    "#n = int(input())\n",
    "#Clist = list(map(int, input().split()))\n",
    "#m = int(input())\n",
    "#findC = list(map(int,input().split()))\n",
    "\n",
    "n = 5\n",
    "Clist = [8, 3, 7, 9]\n",
    "m = 3\n",
    "findC = [5,7,9]\n",
    "\n",
    "Clist.sort()\n",
    "\n",
    "for i in findC:\n",
    "    result = sol(Clist,0,len(Clist)-1, i)\n",
    "    if result == 0:\n",
    "        print('yes', end= ' ')\n",
    "    else:\n",
    "        print('no', end = ' ')"
   ]
  },
  {
   "cell_type": "code",
   "execution_count": 18,
   "id": "744ce7fd",
   "metadata": {},
   "outputs": [],
   "source": [
    "def sol(clist,start, end, target):\n",
    "    while start <= end:\n",
    "        if start == end:\n",
    "            if clist[start] == target:\n",
    "                return 0\n",
    "            else:\n",
    "                return -1\n",
    "        \n",
    "        mid = (start + end) // 2\n",
    "        \n",
    "        if clist[mid] == target:\n",
    "            return 0\n",
    "        elif clist[mid] < target:\n",
    "            start = mid +1\n",
    "        else:\n",
    "            end = mid -1\n",
    "    "
   ]
  },
  {
   "cell_type": "code",
   "execution_count": 29,
   "id": "cf869a22",
   "metadata": {},
   "outputs": [
    {
     "name": "stdout",
     "output_type": "stream",
     "text": [
      "no yes yes "
     ]
    }
   ],
   "source": [
    "n = 5\n",
    "Clist = [8, 3, 7, 9]\n",
    "m = 3\n",
    "findC = [5,7,9]\n",
    "\n",
    "Clist.sort()\n",
    "sol2(Clist,findC)"
   ]
  },
  {
   "cell_type": "code",
   "execution_count": 30,
   "id": "4c9e4aa4",
   "metadata": {},
   "outputs": [],
   "source": [
    "def sol2(clist,targets):\n",
    "    for elemet in targets:\n",
    "        if elemet in clist:\n",
    "            print('yes', end= ' ')\n",
    "        else:\n",
    "            print('no', end= ' ')"
   ]
  }
 ],
 "metadata": {
  "kernelspec": {
   "display_name": "Python 3 (ipykernel)",
   "language": "python",
   "name": "python3"
  },
  "language_info": {
   "codemirror_mode": {
    "name": "ipython",
    "version": 3
   },
   "file_extension": ".py",
   "mimetype": "text/x-python",
   "name": "python",
   "nbconvert_exporter": "python",
   "pygments_lexer": "ipython3",
   "version": "3.9.6"
  }
 },
 "nbformat": 4,
 "nbformat_minor": 5
}
