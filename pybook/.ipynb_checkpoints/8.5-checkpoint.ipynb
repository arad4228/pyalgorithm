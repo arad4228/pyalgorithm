{
 "cells": [
  {
   "cell_type": "markdown",
   "id": "7b60adc4",
   "metadata": {},
   "source": [
    "## 효율적인 화폐 구성\n",
    "n가지 종류의 화폐가 있다.\n",
    "\n",
    "화폐의 개수를 최소한으로 이용해서 그 가치의 합이 m원이 되도록 한다\n",
    "\n",
    "각 화폐는 몇개라도 사용할 수 있음\n",
    "\n",
    "구성은 같지만 순서가 다른것은 같은 경우로 생각\n"
   ]
  },
  {
   "cell_type": "code",
   "execution_count": 18,
   "id": "2e36fc3b",
   "metadata": {},
   "outputs": [
    {
     "name": "stdout",
     "output_type": "stream",
     "text": [
      "5\n"
     ]
    }
   ],
   "source": [
    "#n, m = map(int, input().split())\n",
    "#nlist = []\n",
    "#for i in range(n):\n",
    "#     nlist.append(int(input()))\n",
    "n, m = 2, 15\n",
    "nlist = [2,3]\n",
    "mysol(n,m,nlist)"
   ]
  },
  {
   "cell_type": "code",
   "execution_count": 17,
   "id": "b77c9f03",
   "metadata": {},
   "outputs": [],
   "source": [
    "def sol(n,m,nlist):\n",
    "    slist = [99999] * (m+1)\n",
    "    \n",
    "    slist[0] = 0\n",
    "    for i in range(n):\n",
    "        for j in range(nlist[i], m+1):\n",
    "            if slist[j- nlist[i]] != -1:\n",
    "                slist[j] = min(slist[j], slist[j-nlist[i]]+1)\n",
    "                \n",
    "    if slist[m] == 99999:\n",
    "        print(-1)\n",
    "    else:\n",
    "        print(slist[m])"
   ]
  }
 ],
 "metadata": {
  "kernelspec": {
   "display_name": "Python 3 (ipykernel)",
   "language": "python",
   "name": "python3"
  },
  "language_info": {
   "codemirror_mode": {
    "name": "ipython",
    "version": 3
   },
   "file_extension": ".py",
   "mimetype": "text/x-python",
   "name": "python",
   "nbconvert_exporter": "python",
   "pygments_lexer": "ipython3",
   "version": "3.9.6"
  }
 },
 "nbformat": 4,
 "nbformat_minor": 5
}
