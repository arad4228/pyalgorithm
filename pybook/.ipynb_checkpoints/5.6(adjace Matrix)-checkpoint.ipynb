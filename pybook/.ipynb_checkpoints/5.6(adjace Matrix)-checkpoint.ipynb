{
 "cells": [
  {
   "cell_type": "code",
   "execution_count": 2,
   "id": "fbd55526",
   "metadata": {},
   "outputs": [
    {
     "name": "stdout",
     "output_type": "stream",
     "text": [
      "[[0, 7, 5], [7, 0, 999999999], [5, 999999999, 0]]\n"
     ]
    }
   ],
   "source": [
    "INF = 999999999\n",
    "\n",
    "graph = [[0,7,5],[7,0,INF],[5,INF,0]]\n",
    "\n",
    "print(graph)"
   ]
  }
 ],
 "metadata": {
  "kernelspec": {
   "display_name": "Python 3 (ipykernel)",
   "language": "python",
   "name": "python3"
  },
  "language_info": {
   "codemirror_mode": {
    "name": "ipython",
    "version": 3
   },
   "file_extension": ".py",
   "mimetype": "text/x-python",
   "name": "python",
   "nbconvert_exporter": "python",
   "pygments_lexer": "ipython3",
   "version": "3.9.4"
  }
 },
 "nbformat": 4,
 "nbformat_minor": 5
}
