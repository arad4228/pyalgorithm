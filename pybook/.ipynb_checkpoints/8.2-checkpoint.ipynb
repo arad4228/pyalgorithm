{
 "cells": [
  {
   "cell_type": "markdown",
   "id": "500d34a1",
   "metadata": {},
   "source": [
    "## 1로 만들기\n",
    "주어진 숫자를 1로 만들기 위한 연산은 4가지 이다.\n",
    "1. x가 5로 나눠떨어지면 5로 나눈다.\n",
    "2. x가 3로 나눠떨어지면 3로 나눈다.\n",
    "3. x가 2로 나눠떨어지면 2로 나눈다.\n",
    "4. x에서 1을 뺀다.\n"
   ]
  },
  {
   "cell_type": "code",
   "execution_count": 10,
   "id": "7717f7b6",
   "metadata": {},
   "outputs": [],
   "source": [
    "def sol(n):\n",
    "    nlist = [0]* 30001\n",
    "    \n",
    "    for i in range(2, n +1):\n",
    "        nlist[i] =nlist[i-1] + 1\n",
    "        \n",
    "        if i % 2 == 0:\n",
    "            nlist[i] = min(nlist[i],nlist[i // 2] +1)\n",
    "            \n",
    "        elif i % 3 == 0:\n",
    "            nlist[i] = min(nlist[i], nlist[i // 3]+1)\n",
    "        elif i % 5 == 0:\n",
    "            nlist[i] = min(nlist[i], nlist[i // 5]+1)\n",
    "        \n",
    "    print(nlist[n])"
   ]
  },
  {
   "cell_type": "code",
   "execution_count": 12,
   "id": "8e37be47",
   "metadata": {},
   "outputs": [
    {
     "name": "stdout",
     "output_type": "stream",
     "text": [
      "3\n"
     ]
    }
   ],
   "source": [
    "n = 26\n",
    "sol(n)"
   ]
  },
  {
   "cell_type": "code",
   "execution_count": 18,
   "id": "5b0dedaa",
   "metadata": {},
   "outputs": [],
   "source": [
    "def mysol(n):\n",
    "    nlist = [0] * 30001\n",
    "    \n",
    "    for i in range(2,n+1):\n",
    "        nlist[i] = nlist[i-1]+1\n",
    "        \n",
    "        if nlist[i] % 2 == 0:\n",
    "            nlist[i] = min(nlist[i // 2]+1,nlist[i])\n",
    "            #만약 2로 나눠진다면 나눠진 부분에 +1값과 +1로만 해진 값을 비교해 작은 것으로 변경\n",
    "        elif nlist[i] % 3 == 0:\n",
    "            nlist[i] = min(nlist[i // 3] + 1, nlist[i])\n",
    "        elif nlist[i] % 5 == 0:\n",
    "            nlist[i] = min(nlist[i // 5]+1, nlist[i])\n",
    "    print(nlist[n])"
   ]
  },
  {
   "cell_type": "code",
   "execution_count": 20,
   "id": "0721c8be",
   "metadata": {},
   "outputs": [
    {
     "name": "stdout",
     "output_type": "stream",
     "text": [
      "3\n"
     ]
    }
   ],
   "source": [
    "n = 26\n",
    "mysol(n)"
   ]
  }
 ],
 "metadata": {
  "kernelspec": {
   "display_name": "Python 3 (ipykernel)",
   "language": "python",
   "name": "python3"
  },
  "language_info": {
   "codemirror_mode": {
    "name": "ipython",
    "version": 3
   },
   "file_extension": ".py",
   "mimetype": "text/x-python",
   "name": "python",
   "nbconvert_exporter": "python",
   "pygments_lexer": "ipython3",
   "version": "3.9.6"
  }
 },
 "nbformat": 4,
 "nbformat_minor": 5
}
